{
  "nbformat": 4,
  "nbformat_minor": 0,
  "metadata": {
    "colab": {
      "provenance": [],
      "authorship_tag": "ABX9TyM3MbvMh0R5RlNvV97aNXZc",
      "include_colab_link": true
    },
    "kernelspec": {
      "name": "python3",
      "display_name": "Python 3"
    },
    "language_info": {
      "name": "python"
    }
  },
  "cells": [
    {
      "cell_type": "markdown",
      "metadata": {
        "id": "view-in-github",
        "colab_type": "text"
      },
      "source": [
        "<a href=\"https://colab.research.google.com/github/jhwnoh/UST-GenerativeModels/blob/main/P1_AutoregressiveGM.ipynb\" target=\"_parent\"><img src=\"https://colab.research.google.com/assets/colab-badge.svg\" alt=\"Open In Colab\"/></a>"
      ]
    },
    {
      "cell_type": "markdown",
      "source": [
        "# 1. Handling with SMILES"
      ],
      "metadata": {
        "id": "lYuKZhsH5wJt"
      }
    },
    {
      "cell_type": "markdown",
      "source": [
        "Install rdkit & convert SMILES to molecules"
      ],
      "metadata": {
        "id": "shbxfuR55qXe"
      }
    },
    {
      "cell_type": "code",
      "execution_count": null,
      "metadata": {
        "colab": {
          "base_uri": "https://localhost:8080/"
        },
        "id": "bb_C8SaD3xBy",
        "outputId": "92cd7323-b766-4bd4-a9d4-32887d4fd4e8"
      },
      "outputs": [
        {
          "output_type": "stream",
          "name": "stdout",
          "text": [
            "Collecting rdkit\n",
            "  Downloading rdkit-2023.9.2-cp310-cp310-manylinux_2_17_x86_64.manylinux2014_x86_64.whl (30.5 MB)\n",
            "\u001b[2K     \u001b[90m━━━━━━━━━━━━━━━━━━━━━━━━━━━━━━━━━━━━━━━━\u001b[0m \u001b[32m30.5/30.5 MB\u001b[0m \u001b[31m29.3 MB/s\u001b[0m eta \u001b[36m0:00:00\u001b[0m\n",
            "\u001b[?25hRequirement already satisfied: numpy in /usr/local/lib/python3.10/dist-packages (from rdkit) (1.23.5)\n",
            "Requirement already satisfied: Pillow in /usr/local/lib/python3.10/dist-packages (from rdkit) (9.4.0)\n",
            "Installing collected packages: rdkit\n",
            "Successfully installed rdkit-2023.9.2\n"
          ]
        }
      ],
      "source": [
        "!pip install rdkit\n",
        "\n",
        "import rdkit\n",
        "from rdkit.Chem import MolFromSmiles,MolToSmiles"
      ]
    },
    {
      "cell_type": "code",
      "source": [
        "smi = 'CC(=O)NC(C(=O)NCc1ccccc1)c1ccco1'\n",
        "mol = MolFromSmiles(smi)\n",
        "mol"
      ],
      "metadata": {
        "colab": {
          "base_uri": "https://localhost:8080/",
          "height": 167
        },
        "id": "n6yz-qVZ38wx",
        "outputId": "14915731-71c7-475f-8234-e6537fa0f4da"
      },
      "execution_count": null,
      "outputs": [
        {
          "output_type": "execute_result",
          "data": {
            "text/plain": [
              "<rdkit.Chem.rdchem.Mol at 0x7917abc77760>"
            ],
            "image/png": "[encoded data removed]"
          },
          "metadata": {},
          "execution_count": 4
        }
      ]
    },
    {
      "cell_type": "code",
      "source": [
        "smi_from_mol = MolToSmiles(mol)\n",
        "smi_from_mol"
      ],
      "metadata": {
        "colab": {
          "base_uri": "https://localhost:8080/",
          "height": 36
        },
        "id": "YzahAtOD4HIN",
        "outputId": "a3f8411c-5ceb-47a1-c2c1-0ae03d0ae3aa"
      },
      "execution_count": null,
      "outputs": [
        {
          "output_type": "execute_result",
          "data": {
            "text/plain": [
              "'CC(=O)NC(C(=O)NCc1ccccc1)c1ccco1'"
            ],
            "application/vnd.google.colaboratory.intrinsic+json": {
              "type": "string"
            }
          },
          "metadata": {},
          "execution_count": 5
        }
      ]
    },
    {
      "cell_type": "code",
      "source": [
        "smi = 'COc1cc(CNc2ccc(C)cc'\n",
        "mol = MolFromSmiles(smi)\n",
        "mol"
      ],
      "metadata": {
        "colab": {
          "base_uri": "https://localhost:8080/"
        },
        "id": "sbMlXn1I4MG-",
        "outputId": "0bbc1259-6874-4a5d-8615-e94d20ec5aea"
      },
      "execution_count": null,
      "outputs": [
        {
          "output_type": "stream",
          "name": "stderr",
          "text": [
            "[06:48:13] SMILES Parse Error: extra open parentheses for input: 'COc1cc(CNc2ccc(C)cc'\n"
          ]
        }
      ]
    },
    {
      "cell_type": "markdown",
      "source": [
        "# 2. Data loading, find unique tokens from dataset"
      ],
      "metadata": {
        "id": "QwhqUXNd51lC"
      }
    },
    {
      "cell_type": "markdown",
      "source": [
        "Load SMILES data from MOSES (https://github.com/molecularsets/moses)"
      ],
      "metadata": {
        "id": "FTW67_154sms"
      }
    },
    {
      "cell_type": "code",
      "source": [
        "import numpy as np\n",
        "import pandas as pd\n",
        "from collections import defaultdict\n",
        "from tqdm import tqdm\n",
        "\n",
        "df = pd.read_csv('https://media.githubusercontent.com/media/molecularsets/moses/master/data/train.csv')\n",
        "smis_train = list(df.SMILES)\n",
        "Ntr = [len(smi) for smi in smis_train]\n",
        "\n",
        "df = pd.read_csv('https://media.githubusercontent.com/media/molecularsets/moses/master/data/test.csv')\n",
        "smis_test = list(df.SMILES)\n",
        "Nt = [len(smi) for smi in smis_test]\n",
        "\n",
        "print('Maximum length in train and test data')\n",
        "print(np.max(Ntr),np.max(Nt))"
      ],
      "metadata": {
        "colab": {
          "base_uri": "https://localhost:8080/"
        },
        "id": "0Me0vX-44TTe",
        "outputId": "84198896-3450-42c9-da86-1c0b09968218"
      },
      "execution_count": null,
      "outputs": [
        {
          "output_type": "stream",
          "name": "stdout",
          "text": [
            "Maximum length in train and test data\n",
            "57 55\n"
          ]
        }
      ]
    },
    {
      "cell_type": "markdown",
      "source": [
        "Find unique tokens in training set"
      ],
      "metadata": {
        "id": "yDlmrbtl46v7"
      }
    },
    {
      "cell_type": "code",
      "source": [
        "toks = []\n",
        "for smi in tqdm(smis_train):\n",
        "  toks += list(set(smi))\n",
        "  toks = list(set(toks))\n",
        "toks = list(set(toks))\n",
        "\n",
        "print('Total number of tokens;',len(toks))"
      ],
      "metadata": {
        "colab": {
          "base_uri": "https://localhost:8080/"
        },
        "id": "X5pWal0f44vK",
        "outputId": "db498187-29c2-4b9c-dda7-295401caecfd"
      },
      "execution_count": null,
      "outputs": [
        {
          "output_type": "stream",
          "name": "stderr",
          "text": [
            "100%|██████████| 1584663/1584663 [00:08<00:00, 181523.41it/s]"
          ]
        },
        {
          "output_type": "stream",
          "name": "stdout",
          "text": [
            "Total number of tokens; 26\n"
          ]
        },
        {
          "output_type": "stream",
          "name": "stderr",
          "text": [
            "\n"
          ]
        }
      ]
    },
    {
      "cell_type": "markdown",
      "source": [
        "Check whether all SMILES in test set can be tokenzied using the pre-defined token set."
      ],
      "metadata": {
        "id": "ealfYSq35MVi"
      }
    },
    {
      "cell_type": "code",
      "source": [
        "set_t = []\n",
        "for smi in tqdm(smis_test):\n",
        "  set_t += list(set(smi))\n",
        "  set_t = list(set(set_t))\n",
        "set_t = list(set(set_t))\n",
        "\n",
        "failed = []\n",
        "for t in set_t:\n",
        "  if not t in toks:\n",
        "    print(t,'is not in the pre-defined token set')\n",
        "    failed.append(t)\n",
        "\n",
        "if len(failed) == 0:\n",
        "  print('All SMILES in test set can be tokenized using the pre-defined token set')"
      ],
      "metadata": {
        "colab": {
          "base_uri": "https://localhost:8080/"
        },
        "id": "ys9JjVKg5AHA",
        "outputId": "99d1fc38-d2da-4801-b243-67f31028e08b"
      },
      "execution_count": null,
      "outputs": [
        {
          "output_type": "stream",
          "name": "stderr",
          "text": [
            "100%|██████████| 176074/176074 [00:01<00:00, 146719.32it/s]"
          ]
        },
        {
          "output_type": "stream",
          "name": "stdout",
          "text": [
            "All SMILES in test set can be tokenized using the pre-defined token set\n"
          ]
        },
        {
          "output_type": "stream",
          "name": "stderr",
          "text": [
            "\n"
          ]
        }
      ]
    },
    {
      "cell_type": "code",
      "source": [
        "toks"
      ],
      "metadata": {
        "colab": {
          "base_uri": "https://localhost:8080/"
        },
        "id": "p5EcBASL5Ovo",
        "outputId": "8f4e7bd0-3801-48f7-e6b2-4b064b96030b"
      },
      "execution_count": null,
      "outputs": [
        {
          "output_type": "execute_result",
          "data": {
            "text/plain": [
              "['r',\n",
              " 'B',\n",
              " ']',\n",
              " 'C',\n",
              " '4',\n",
              " '[',\n",
              " 'H',\n",
              " '5',\n",
              " 's',\n",
              " 'l',\n",
              " '(',\n",
              " '#',\n",
              " '6',\n",
              " 'c',\n",
              " '3',\n",
              " '=',\n",
              " 'F',\n",
              " '-',\n",
              " 'N',\n",
              " 'O',\n",
              " 'o',\n",
              " ')',\n",
              " '1',\n",
              " '2',\n",
              " 'S',\n",
              " 'n']"
            ]
          },
          "metadata": {},
          "execution_count": 10
        }
      ]
    },
    {
      "cell_type": "markdown",
      "source": [
        "# 3. Define dataloader, model"
      ],
      "metadata": {
        "id": "4PDtgQa06DqU"
      }
    },
    {
      "cell_type": "markdown",
      "source": [
        "Define **Dataset** class"
      ],
      "metadata": {
        "id": "p-nXV1xK6Kwx"
      }
    },
    {
      "cell_type": "code",
      "source": [
        "import torch\n",
        "from torch.utils.data import Dataset\n",
        "\n",
        "class MolData(Dataset):\n",
        "  def __init__(self,smis,toks):\n",
        "    self.smis = smis\n",
        "    self.toks = toks + ['<','>'] #'<'; start of sequence, '>'; end of sequence\n",
        "    self.Ntok = len(toks)\n",
        "    self.Nmax = 60\n",
        "\n",
        "  def __len__(self):\n",
        "    return len(self.smis)\n",
        "\n",
        "  def __getitem__(self,idx):\n",
        "    smi = '<'+self.smis[idx]+'>'\n",
        "    smi += '>'*(self.Nmax-len(smi))\n",
        "\n",
        "    x_all = np.array([self.toks.index(s) for s in smi]).flatten()\n",
        "\n",
        "    x = x_all[:-1] #input\n",
        "    y = x_all[1:] #output\n",
        "\n",
        "    x = torch.LongTensor(x)\n",
        "    y = torch.LongTensor(y)\n",
        "    return x,y"
      ],
      "metadata": {
        "id": "x0fLfA3r5SMz"
      },
      "execution_count": null,
      "outputs": []
    },
    {
      "cell_type": "code",
      "source": [
        "train_data = MolData(smis_train,toks)\n",
        "train_data[0]"
      ],
      "metadata": {
        "colab": {
          "base_uri": "https://localhost:8080/"
        },
        "id": "nVfVWclY6YEg",
        "outputId": "885233e9-3316-4e15-98f4-f0cd06cf3808"
      },
      "execution_count": null,
      "outputs": [
        {
          "output_type": "execute_result",
          "data": {
            "text/plain": [
              "(tensor([26,  3,  3,  3, 24, 10, 15, 19, 21, 13, 22, 13, 13, 13, 23,  5, 25,  6,\n",
              "          2, 13, 10, 15, 18,  3, 10, 15, 19, 21, 19,  3, 21,  5, 25,  6,  2, 13,\n",
              "         23, 13, 22, 27, 27, 27, 27, 27, 27, 27, 27, 27, 27, 27, 27, 27, 27, 27,\n",
              "         27, 27, 27, 27, 27]),\n",
              " tensor([ 3,  3,  3, 24, 10, 15, 19, 21, 13, 22, 13, 13, 13, 23,  5, 25,  6,  2,\n",
              "         13, 10, 15, 18,  3, 10, 15, 19, 21, 19,  3, 21,  5, 25,  6,  2, 13, 23,\n",
              "         13, 22, 27, 27, 27, 27, 27, 27, 27, 27, 27, 27, 27, 27, 27, 27, 27, 27,\n",
              "         27, 27, 27, 27, 27]))"
            ]
          },
          "metadata": {},
          "execution_count": 12
        }
      ]
    },
    {
      "cell_type": "markdown",
      "source": [
        "Define **Model** class"
      ],
      "metadata": {
        "id": "xAGlObDN6jcr"
      }
    },
    {
      "cell_type": "code",
      "source": [
        "import torch.nn as nn\n",
        "import torch.nn.functional as F\n",
        "\n",
        "class CharRNN(nn.Module):\n",
        "    def __init__(self,dim_x0,dim_x1,dim_h,n_layer,d_ratio):\n",
        "        super(CharRNN,self).__init__()\n",
        "\n",
        "        self.emb_layer = nn.Embedding(dim_x0,dim_x1)\n",
        "\n",
        "        self.rnn = nn.RNN(dim_x1,dim_h,\n",
        "                        num_layers=n_layer,\n",
        "                        dropout = d_ratio,\n",
        "                        batch_first = True)\n",
        "\n",
        "        self.out = nn.Sequential(\n",
        "                  nn.Linear(dim_h,dim_h),\n",
        "                  nn.ReLU(),\n",
        "                  nn.Linear(dim_h,dim_x0))\n",
        "\n",
        "\n",
        "    def forward(self,x_in,h0=None):\n",
        "        x0 = self.emb_layer(x_in)\n",
        "        x1,h1 = self.rnn(x0,h0)\n",
        "        x2 = self.out(x1)\n",
        "        return x2,h1"
      ],
      "metadata": {
        "id": "UaxhaiiW6f9n"
      },
      "execution_count": null,
      "outputs": []
    },
    {
      "cell_type": "code",
      "source": [
        "model = CharRNN(28,128,512,3,0.1)\n",
        "input = train_data[0][0]\n",
        "out,_ = model(input)\n",
        "print(input.shape)\n",
        "print(out.shape)"
      ],
      "metadata": {
        "colab": {
          "base_uri": "https://localhost:8080/"
        },
        "id": "3zvqPsXJrkdE",
        "outputId": "7b78a688-b6ac-4fe8-8109-6302125db7fc"
      },
      "execution_count": null,
      "outputs": [
        {
          "output_type": "stream",
          "name": "stdout",
          "text": [
            "torch.Size([59])\n",
            "torch.Size([59, 28])\n"
          ]
        }
      ]
    },
    {
      "cell_type": "code",
      "source": [
        "ce_loss = nn.CrossEntropyLoss()\n",
        "tgt = train_data[0][1].view(-1)\n",
        "loss = ce_loss(out.reshape(-1,28),tgt)\n",
        "print(loss)"
      ],
      "metadata": {
        "colab": {
          "base_uri": "https://localhost:8080/"
        },
        "id": "NSflUTM8rw50",
        "outputId": "74700c9f-0967-4615-d19c-f415be9c78bf"
      },
      "execution_count": null,
      "outputs": [
        {
          "output_type": "stream",
          "name": "stdout",
          "text": [
            "tensor(3.3560, grad_fn=<NllLossBackward0>)\n"
          ]
        }
      ]
    },
    {
      "cell_type": "markdown",
      "source": [
        "# 4. Define **Sampling** code"
      ],
      "metadata": {
        "id": "QusgtEmhsQE1"
      }
    },
    {
      "cell_type": "code",
      "source": [
        "def Sampling(sampler,n_sample,max_len,tok_lib):\n",
        "    sampler.eval()\n",
        "    with torch.no_grad():\n",
        "        inits = torch.LongTensor([26]*n_sample)\n",
        "        loader = DataLoader(inits,batch_size=100)\n",
        "\n",
        "        Sampled = []\n",
        "        for inp in tqdm(loader):\n",
        "            x_in = inp.reshape(-1,1)\n",
        "\n",
        "            x_hat = []\n",
        "            h = None\n",
        "            for seq_iter in range(max_len):\n",
        "                out,h = sampler(x_in,h)\n",
        "                prob = F.softmax(out,dim=-1).squeeze(1)\n",
        "                x_in = torch.multinomial(prob,1)\n",
        "\n",
        "                x_hat.append(x_in.cpu().detach().numpy())\n",
        "\n",
        "            x_hat = np.hstack(x_hat)\n",
        "            Sampled.append(x_hat)\n",
        "\n",
        "        Sampled = np.vstack(Sampled)\n",
        "\n",
        "        Mols = []\n",
        "        for s in Sampled:\n",
        "            n_end = np.sum(s==27)\n",
        "\n",
        "            if n_end == 0:\n",
        "                continue\n",
        "\n",
        "            n = np.min(np.where(s==27)[0])\n",
        "            m = ''.join(tok_lib[s[:n]].tolist())\n",
        "            Mols.append(m)\n",
        "\n",
        "        Vals = []\n",
        "        for smi in Mols:\n",
        "            mol = MolFromSmiles(smi)\n",
        "            if not mol is None:\n",
        "                Vals.append(MolToSmiles(mol))\n",
        "\n",
        "        Uni = list(set(Vals))\n",
        "        return Vals,len(Vals),len(Uni)"
      ],
      "metadata": {
        "id": "tEhW_yzjsLwA"
      },
      "execution_count": null,
      "outputs": []
    },
    {
      "cell_type": "markdown",
      "source": [
        "# 5. Define trainer code"
      ],
      "metadata": {
        "id": "oz3kuZK2vEw-"
      }
    },
    {
      "cell_type": "code",
      "source": [
        "import rdkit\n",
        "from rdkit import RDLogger\n",
        "RDLogger.DisableLog('rdApp.*')\n",
        "\n",
        "from torch.nn.utils import clip_grad_norm_\n",
        "from torch.utils.data import DataLoader\n",
        "import torch.optim as optim\n",
        "\n",
        "df = pd.read_csv('https://media.githubusercontent.com/media/molecularsets/moses/master/data/train.csv')\n",
        "smis_ = list(df.SMILES)\n",
        "\n",
        "toks = []\n",
        "for smi in tqdm(smis_):\n",
        "  toks += list(set(smi))\n",
        "  toks = list(set(toks))\n",
        "toks = list(set(toks))\n",
        "\n",
        "np.random.seed(1)\n",
        "np.random.shuffle(smis_)\n",
        "\n",
        "n_train = 1000000\n",
        "\n",
        "smi_train = smis_[:n_train]\n",
        "\n",
        "batch_size = 64\n",
        "\n",
        "train_data = MolData(smi_train,toks)\n",
        "tok_lib = np.array(train_data.toks)\n",
        "train_loader = DataLoader(train_data,batch_size=batch_size,shuffle=True)\n",
        "\n",
        "model = CharRNN(28,128,480,3,0.2)\n",
        "\n",
        "lr = 2e-4\n",
        "ce_loss = nn.CrossEntropyLoss()\n",
        "optimizer = optim.Adam(model.parameters(),lr=lr)\n",
        "\n",
        "num_epoch = 20\n",
        "max_norm = 5\n",
        "num_iter = 0\n",
        "for ep in range(num_epoch):\n",
        "    model.train()\n",
        "    for inp in tqdm(train_loader):\n",
        "        x_in = inp[0]\n",
        "        tgt = inp[1].view(-1)\n",
        "\n",
        "        x_out,_ = model(x_in)\n",
        "\n",
        "        loss = ce_loss(x_out.reshape(-1,28),tgt)\n",
        "\n",
        "        optimizer.zero_grad()\n",
        "        loss.backward()\n",
        "        clip_grad_norm_(model.parameters(),max_norm)\n",
        "        optimizer.step()\n",
        "\n",
        "        num_iter += 1\n",
        "\n",
        "        if num_iter % 10 == 0:\n",
        "            samples,val,uni = Sampling(model,100,60,tok_lib)\n",
        "            print(ep,samples[0],val,uni)\n"
      ],
      "metadata": {
        "id": "o3wAj6pqu1YX"
      },
      "execution_count": null,
      "outputs": []
    },
    {
      "cell_type": "markdown",
      "source": [
        "# 6. Using the pretrained model"
      ],
      "metadata": {
        "id": "w3pB-jnq77W_"
      }
    },
    {
      "cell_type": "code",
      "source": [
        "model = CharRNN(28,128,480,3,0.2)\n",
        "chkpt = torch.load('your/path',map_location='cpu')\n",
        "model.load_state_dict(chkpt['state_dict'])\n",
        "samples,val,uni = Sampling(model,10000,100,tok_lib)"
      ],
      "metadata": {
        "id": "9TzRnq7-844w"
      },
      "execution_count": null,
      "outputs": []
    }
  ]
}