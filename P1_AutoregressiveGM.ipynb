{
  "nbformat": 4,
  "nbformat_minor": 0,
  "metadata": {
    "colab": {
      "provenance": [],
      "mount_file_id": "1LwgMo5uMgqZ_vIHaKxWUzRYBnWz2DmPH",
      "authorship_tag": "ABX9TyM2HbRRZwv7dwtvrVST2c5X",
      "include_colab_link": true
    },
    "kernelspec": {
      "name": "python3",
      "display_name": "Python 3"
    },
    "language_info": {
      "name": "python"
    }
  },
  "cells": [
    {
      "cell_type": "markdown",
      "metadata": {
        "id": "view-in-github",
        "colab_type": "text"
      },
      "source": [
        "<a href=\"https://colab.research.google.com/github/jhwnoh/UST-GenerativeModels/blob/master/RE_P1_AutoregressiveGM.ipynb\" target=\"_parent\"><img src=\"https://colab.research.google.com/assets/colab-badge.svg\" alt=\"Open In Colab\"/></a>"
      ]
    },
    {
      "cell_type": "code",
      "execution_count": null,
      "metadata": {
        "colab": {
          "base_uri": "https://localhost:8080/"
        },
        "id": "0kOSaXfVZI6S",
        "outputId": "4b0cb3c1-8731-47f4-c709-62c538f04e38"
      },
      "outputs": [
        {
          "output_type": "stream",
          "name": "stdout",
          "text": [
            "Requirement already satisfied: rdkit in /usr/local/lib/python3.10/dist-packages (2023.9.2)\n",
            "Requirement already satisfied: numpy in /usr/local/lib/python3.10/dist-packages (from rdkit) (1.23.5)\n",
            "Requirement already satisfied: Pillow in /usr/local/lib/python3.10/dist-packages (from rdkit) (9.4.0)\n"
          ]
        }
      ],
      "source": [
        "!pip install rdkit"
      ]
    },
    {
      "cell_type": "markdown",
      "source": [
        "Dataset and RNN model (here, we used nn.GRU function instead of nn.RNN function)"
      ],
      "metadata": {
        "id": "PT19QR2oZfCJ"
      }
    },
    {
      "cell_type": "code",
      "source": [
        "import rdkit\n",
        "from rdkit import RDLogger\n",
        "RDLogger.DisableLog('rdApp.*')\n",
        "from rdkit.Chem import MolFromSmiles,MolToSmiles\n",
        "from tqdm import tqdm\n",
        "import numpy as np\n",
        "\n",
        "import torch\n",
        "import torch.nn as nn\n",
        "import torch.nn.functional as F\n",
        "from torch.utils.data import Dataset,DataLoader\n",
        "\n",
        "class MolData(Dataset):\n",
        "    def __init__(self,smis,toks):\n",
        "        self.smis = smis\n",
        "        self.toks = toks + ['<','>'] #'<'; start of sequence, '>'; end of sequence\n",
        "        self.Ntok = len(toks)\n",
        "        self.Nmax = 60\n",
        "\n",
        "    def __len__(self):\n",
        "        return len(self.smis)\n",
        "\n",
        "    def __getitem__(self,idx):\n",
        "        smi = '<'+self.smis[idx]+'>'\n",
        "        smi += '>'*(self.Nmax-len(smi))\n",
        "\n",
        "        x_all = np.array([self.toks.index(s) for s in smi]).flatten()\n",
        "\n",
        "        x = x_all[:-1] #input\n",
        "        y = x_all[1:] #output\n",
        "\n",
        "        x = torch.LongTensor(x)\n",
        "        y = torch.LongTensor(y)\n",
        "        return x,y\n",
        "\n",
        "class CharRNN(nn.Module):\n",
        "    def __init__(self,dim_x0,dim_x1,dim_h,n_layer,d_ratio):\n",
        "        super(CharRNN,self).__init__()\n",
        "        self.n_layer = n_layer\n",
        "        self.emb_layer = nn.Embedding(dim_x0,dim_x1)\n",
        "\n",
        "        self.rnn = nn.GRU(dim_x1,dim_h,\n",
        "                          num_layers=n_layer,\n",
        "                          dropout = d_ratio,\n",
        "                          batch_first = True)\n",
        "\n",
        "        ## 만약 nn.RNN 을 사용하고 싶다면 아래의 코드를 사용 ##\n",
        "        #self.rnn = nn.RNN(dim_x1,dim_h,\n",
        "        #                  num_layers=n_layer,\n",
        "        #                  dropout = d_ratio,\n",
        "        #                  batch_first = True)\n",
        "\n",
        "        self.out = nn.Sequential(\n",
        "                        nn.Linear(dim_h,dim_h),\n",
        "                        nn.ReLU(),\n",
        "                        nn.Linear(dim_h,dim_x0))\n",
        "\n",
        "    def forward(self,x_in,h0=None):\n",
        "        x0 = self.emb_layer(x_in)\n",
        "        x1,h1 = self.rnn(x0,h0)\n",
        "        x2 = self.out(x1)\n",
        "        return x2,h1\n"
      ],
      "metadata": {
        "id": "3PBEPYGqZS4Y"
      },
      "execution_count": null,
      "outputs": []
    },
    {
      "cell_type": "markdown",
      "source": [
        "Autoregressive generation function"
      ],
      "metadata": {
        "id": "TJDbz3dzZkG3"
      }
    },
    {
      "cell_type": "code",
      "source": [
        "def Sampling(sampler,n_sample,max_len,tok_lib):\n",
        "    sampler.eval()\n",
        "    with torch.no_grad():\n",
        "        inits = torch.LongTensor([26]*n_sample)\n",
        "        loader = DataLoader(inits,batch_size=50)\n",
        "\n",
        "        Sampled = []\n",
        "        for inp in tqdm(loader):\n",
        "            x_in = inp.reshape(-1,1)\n",
        "\n",
        "            x_hat = []\n",
        "            h = None\n",
        "            for seq_iter in range(max_len):\n",
        "                out,h = sampler(x_in,h)\n",
        "                prob = F.softmax(out,dim=-1).squeeze(1)\n",
        "                x_in = torch.multinomial(prob,1)\n",
        "\n",
        "                x_hat.append(x_in.cpu().detach().numpy())\n",
        "\n",
        "            x_hat = np.hstack(x_hat)\n",
        "            Sampled.append(x_hat)\n",
        "\n",
        "    Sampled = np.vstack(Sampled)\n",
        "\n",
        "    Mols = []\n",
        "    for s in Sampled:\n",
        "        n_end = np.sum(s==27)\n",
        "\n",
        "        if n_end == 0:\n",
        "            continue\n",
        "\n",
        "        n = np.min(np.where(s==27)[0])\n",
        "        m = ''.join(tok_lib[s[:n]].tolist())\n",
        "        Mols.append(m)\n",
        "\n",
        "    Vals = []\n",
        "    for smi in Mols:\n",
        "        mol = MolFromSmiles(smi)\n",
        "        if not mol is None:\n",
        "            Vals.append(MolToSmiles(mol))\n",
        "\n",
        "    Uni = list(set(Vals))\n",
        "\n",
        "    return Vals,len(Vals),len(Uni)"
      ],
      "metadata": {
        "id": "itqM4pUpZjqK"
      },
      "execution_count": null,
      "outputs": []
    },
    {
      "cell_type": "markdown",
      "source": [
        "Training and validation check (구글드라이브에서 본인이 가진 파일경로로 수정하여 코드 사용할것!)"
      ],
      "metadata": {
        "id": "oMhvxe5caGRZ"
      }
    },
    {
      "cell_type": "code",
      "source": [
        "import numpy as np\n",
        "import pandas as pd\n",
        "import os\n",
        "\n",
        "import pickle\n",
        "\n",
        "from tqdm import tqdm\n",
        "\n",
        "import torch\n",
        "import torch.nn as nn\n",
        "import torch.optim as optim\n",
        "from torch.nn.utils import clip_grad_norm_\n",
        "import torch.nn.functional as F\n",
        "from torch.utils.data import Dataset,DataLoader\n",
        "\n",
        "df = pd.read_csv('https://media.githubusercontent.com/media/molecularsets/moses/master/data/train.csv') #본인이 가진 파일 경로로 수정\n",
        "smi_ = list(df.SMILES)\n",
        "\n",
        "toks = pickle.load(open('/content/drive/MyDrive/Colab Notebooks/UST_GM_week13/UST-RNN/MOSES_Tokens.pkl','rb')) #본인이 가진 파일 경로로 수정\n",
        "\n",
        "np.random.seed(1)\n",
        "np.random.shuffle(smi_)\n",
        "\n",
        "n_train = 1000000\n",
        "n_val = 100000\n",
        "\n",
        "smi_train = smi_[:n_train]\n",
        "smi_val = smi_[n_train:n_train+n_val]\n",
        "\n",
        "batch_size = 64\n",
        "\n",
        "train_data = MolData(smi_train,toks)\n",
        "tok_lib = np.array(train_data.toks) # For sampling\n",
        "train_loader = DataLoader(train_data,batch_size=batch_size,shuffle=True)\n",
        "\n",
        "model = CharRNN(28,128,480,3,0.2)\n",
        "chkpt = torch.load('/content/drive/MyDrive/Colab Notebooks/UST_GM_week13/UST-RNN/Model_GRU.pth.tar',map_location='cpu') #본인이 가진 파일 경로로 수정\n",
        "\n",
        "## 만약 위의 모델에서 nn.RNN 을 사용했다면, 아래와 같이 Model_RNN.pth.tar가 있는 경로로 수정하여 사용##\n",
        "#chkpt = torch.load('/content/drive/MyDrive/Colab Notebooks/UST_GM_week13/UST-RNN/Model_RNN.pth.tar',map_location='cpu') #본인이 가진 파일 경로로 수정\n",
        "\n",
        "model.load_state_dict(chkpt['state_dict'])\n",
        "\n",
        "lr = 1e-4\n",
        "ce_loss = nn.CrossEntropyLoss()\n",
        "optimizer = optim.Adam(model.parameters(),lr=lr)\n",
        "\n",
        "num_epoch = 20\n",
        "max_norm = 5\n",
        "num_iter = 0\n",
        "\n",
        "model.train()\n",
        "for ep in range(num_epoch):\n",
        "    for inp in tqdm(train_loader):\n",
        "        x_in = inp[0]\n",
        "        tgt = inp[1]\n",
        "\n",
        "        x_out,_ = model(x_in)\n",
        "\n",
        "        loss = ce_loss(x_out.reshape(-1,28),tgt.view(-1))\n",
        "\n",
        "        optimizer.zero_grad()\n",
        "        loss.backward()\n",
        "        clip_grad_norm_(model.parameters(), max_norm)\n",
        "        optimizer.step()\n",
        "\n",
        "        num_iter += 1\n",
        "\n",
        "        if num_iter % 10 == 0:\n",
        "            mols,val,uniq = Sampling(model,200,100,tok_lib) #200: 샘플링 시도 횟수, 100: 최대 SMILES 길이\n",
        "            print(ep,mols[0],num_iter,val,uniq)\n",
        "\n",
        "            model.train()"
      ],
      "metadata": {
        "colab": {
          "base_uri": "https://localhost:8080/",
          "height": 565
        },
        "id": "mvNdNEewZvEn",
        "outputId": "ffc91045-a3a8-47c5-8253-047a56cb7dfa"
      },
      "execution_count": null,
      "outputs": [
        {
          "output_type": "stream",
          "name": "stderr",
          "text": [
            "  0%|          | 9/15625 [00:19<9:04:35,  2.09s/it]\n",
            "  0%|          | 0/4 [00:00<?, ?it/s]\u001b[A\n",
            " 25%|██▌       | 1/4 [00:01<00:03,  1.09s/it]\u001b[A\n",
            " 50%|█████     | 2/4 [00:02<00:02,  1.09s/it]\u001b[A\n",
            " 75%|███████▌  | 3/4 [00:03<00:01,  1.09s/it]\u001b[A\n",
            "100%|██████████| 4/4 [00:04<00:00,  1.20s/it]\n",
            "  0%|          | 10/15625 [00:26<15:19:07,  3.53s/it]"
          ]
        },
        {
          "output_type": "stream",
          "name": "stdout",
          "text": [
            "0 Cc1cccnc1N1CCN(C(=O)C2(c3ccc(Cl)cc3)CC2)CC1 10 185 185\n"
          ]
        },
        {
          "output_type": "stream",
          "name": "stderr",
          "text": [
            "  0%|          | 16/15625 [00:41<11:12:27,  2.58s/it]\n"
          ]
        },
        {
          "output_type": "error",
          "ename": "KeyboardInterrupt",
          "evalue": "ignored",
          "traceback": [
            "\u001b[0;31m---------------------------------------------------------------------------\u001b[0m",
            "\u001b[0;31mKeyboardInterrupt\u001b[0m                         Traceback (most recent call last)",
            "\u001b[0;32m<ipython-input-13-d55f93310add>\u001b[0m in \u001b[0;36m<cell line: 49>\u001b[0;34m()\u001b[0m\n\u001b[1;32m     57\u001b[0m \u001b[0;34m\u001b[0m\u001b[0m\n\u001b[1;32m     58\u001b[0m         \u001b[0moptimizer\u001b[0m\u001b[0;34m.\u001b[0m\u001b[0mzero_grad\u001b[0m\u001b[0;34m(\u001b[0m\u001b[0;34m)\u001b[0m\u001b[0;34m\u001b[0m\u001b[0;34m\u001b[0m\u001b[0m\n\u001b[0;32m---> 59\u001b[0;31m         \u001b[0mloss\u001b[0m\u001b[0;34m.\u001b[0m\u001b[0mbackward\u001b[0m\u001b[0;34m(\u001b[0m\u001b[0;34m)\u001b[0m\u001b[0;34m\u001b[0m\u001b[0;34m\u001b[0m\u001b[0m\n\u001b[0m\u001b[1;32m     60\u001b[0m         \u001b[0mclip_grad_norm_\u001b[0m\u001b[0;34m(\u001b[0m\u001b[0mmodel\u001b[0m\u001b[0;34m.\u001b[0m\u001b[0mparameters\u001b[0m\u001b[0;34m(\u001b[0m\u001b[0;34m)\u001b[0m\u001b[0;34m,\u001b[0m \u001b[0mmax_norm\u001b[0m\u001b[0;34m)\u001b[0m\u001b[0;34m\u001b[0m\u001b[0;34m\u001b[0m\u001b[0m\n\u001b[1;32m     61\u001b[0m         \u001b[0moptimizer\u001b[0m\u001b[0;34m.\u001b[0m\u001b[0mstep\u001b[0m\u001b[0;34m(\u001b[0m\u001b[0;34m)\u001b[0m\u001b[0;34m\u001b[0m\u001b[0;34m\u001b[0m\u001b[0m\n",
            "\u001b[0;32m/usr/local/lib/python3.10/dist-packages/torch/_tensor.py\u001b[0m in \u001b[0;36mbackward\u001b[0;34m(self, gradient, retain_graph, create_graph, inputs)\u001b[0m\n\u001b[1;32m    490\u001b[0m                 \u001b[0minputs\u001b[0m\u001b[0;34m=\u001b[0m\u001b[0minputs\u001b[0m\u001b[0;34m,\u001b[0m\u001b[0;34m\u001b[0m\u001b[0;34m\u001b[0m\u001b[0m\n\u001b[1;32m    491\u001b[0m             )\n\u001b[0;32m--> 492\u001b[0;31m         torch.autograd.backward(\n\u001b[0m\u001b[1;32m    493\u001b[0m             \u001b[0mself\u001b[0m\u001b[0;34m,\u001b[0m \u001b[0mgradient\u001b[0m\u001b[0;34m,\u001b[0m \u001b[0mretain_graph\u001b[0m\u001b[0;34m,\u001b[0m \u001b[0mcreate_graph\u001b[0m\u001b[0;34m,\u001b[0m \u001b[0minputs\u001b[0m\u001b[0;34m=\u001b[0m\u001b[0minputs\u001b[0m\u001b[0;34m\u001b[0m\u001b[0;34m\u001b[0m\u001b[0m\n\u001b[1;32m    494\u001b[0m         )\n",
            "\u001b[0;32m/usr/local/lib/python3.10/dist-packages/torch/autograd/__init__.py\u001b[0m in \u001b[0;36mbackward\u001b[0;34m(tensors, grad_tensors, retain_graph, create_graph, grad_variables, inputs)\u001b[0m\n\u001b[1;32m    249\u001b[0m     \u001b[0;31m# some Python versions print out the first line of a multi-line function\u001b[0m\u001b[0;34m\u001b[0m\u001b[0;34m\u001b[0m\u001b[0m\n\u001b[1;32m    250\u001b[0m     \u001b[0;31m# calls in the traceback and some print out the last line\u001b[0m\u001b[0;34m\u001b[0m\u001b[0;34m\u001b[0m\u001b[0m\n\u001b[0;32m--> 251\u001b[0;31m     Variable._execution_engine.run_backward(  # Calls into the C++ engine to run the backward pass\n\u001b[0m\u001b[1;32m    252\u001b[0m         \u001b[0mtensors\u001b[0m\u001b[0;34m,\u001b[0m\u001b[0;34m\u001b[0m\u001b[0;34m\u001b[0m\u001b[0m\n\u001b[1;32m    253\u001b[0m         \u001b[0mgrad_tensors_\u001b[0m\u001b[0;34m,\u001b[0m\u001b[0;34m\u001b[0m\u001b[0;34m\u001b[0m\u001b[0m\n",
            "\u001b[0;31mKeyboardInterrupt\u001b[0m: "
          ]
        }
      ]
    },
    {
      "cell_type": "markdown",
      "source": [
        "1000개의 분자를 새로 생성"
      ],
      "metadata": {
        "id": "GO2NxjDkfYLx"
      }
    },
    {
      "cell_type": "code",
      "source": [
        "mols,val,uniq = Sampling(model,1000,100,tok_lib) #1000: 샘플링 시도 횟수, 100: 최대 SMILES 길이"
      ],
      "metadata": {
        "colab": {
          "base_uri": "https://localhost:8080/"
        },
        "id": "zgucP7zIeXyq",
        "outputId": "8525aa0f-ad6a-4dbf-c5e6-e2bf0064b02c"
      },
      "execution_count": null,
      "outputs": [
        {
          "output_type": "stream",
          "name": "stderr",
          "text": [
            "100%|██████████| 20/20 [00:25<00:00,  1.25s/it]\n"
          ]
        }
      ]
    },
    {
      "cell_type": "code",
      "source": [
        "MolFromSmiles(mols[0])"
      ],
      "metadata": {
        "colab": {
          "base_uri": "https://localhost:8080/",
          "height": 167
        },
        "id": "Q8gbrtknem7a",
        "outputId": "40f7a812-a41a-430d-9393-9666db48ab7e"
      },
      "execution_count": null,
      "outputs": [
        {
          "output_type": "execute_result",
          "data": {
            "text/plain": [
              "<rdkit.Chem.rdchem.Mol at 0x7ab46d81c270>"
            ],
            "image/png": "[encoded data removed]"
          },
          "metadata": {},
          "execution_count": 16
        }
      ]
    },
    {
      "cell_type": "markdown",
      "source": [
        "생성된 SMILES의 길이 분포 확인해보기"
      ],
      "metadata": {
        "id": "tGCibHK5fcNA"
      }
    },
    {
      "cell_type": "code",
      "source": [
        "mol_size = [len(smi) for smi in mols]\n",
        "import matplotlib.pyplot as plt\n",
        "plt.hist(mol_size)"
      ],
      "metadata": {
        "colab": {
          "base_uri": "https://localhost:8080/",
          "height": 486
        },
        "id": "QDJUQb6MeuWx",
        "outputId": "bbbd65ee-f436-4970-bd48-54c7af18a69e"
      },
      "execution_count": null,
      "outputs": [
        {
          "output_type": "execute_result",
          "data": {
            "text/plain": [
              "(array([  3.,  25.,  74., 138., 297., 223.,  91.,  44.,   8.,   2.]),\n",
              " array([19. , 22.7, 26.4, 30.1, 33.8, 37.5, 41.2, 44.9, 48.6, 52.3, 56. ]),\n",
              " <BarContainer object of 10 artists>)"
            ]
          },
          "metadata": {},
          "execution_count": 18
        },
        {
          "output_type": "display_data",
          "data": {
            "text/plain": [
              "<Figure size 640x480 with 1 Axes>"
            ],
            "image/png": "[encoded data removed]"
          },
          "metadata": {}
        }
      ]
    },
    {
      "cell_type": "code",
      "source": [],
      "metadata": {
        "id": "KRcHnY2zflAO"
      },
      "execution_count": null,
      "outputs": []
    }
  ]
}
